{
 "cells": [
  {
   "cell_type": "code",
   "execution_count": 1,
   "metadata": {},
   "outputs": [
    {
     "name": "stdout",
     "output_type": "stream",
     "text": [
      "Added new repo: imagej.public\n"
     ]
    },
    {
     "data": {
      "application/vnd.jupyter.widget-view+json": {
       "model_id": "",
       "version_major": 2,
       "version_minor": 0
      },
      "method": "display_data"
     },
     "metadata": {},
     "output_type": "display_data"
    },
    {
     "data": {
      "application/vnd.jupyter.widget-view+json": {
       "model_id": "305fcd2c-3f70-4b3b-89d5-d38ab9a39675",
       "version_major": 2,
       "version_minor": 0
      },
      "method": "display_data"
     },
     "metadata": {},
     "output_type": "display_data"
    },
    {
     "data": {
      "text/plain": [
       "net.imagej.ImageJ@18f435a8"
      ]
     },
     "execution_count": 1,
     "metadata": {},
     "output_type": "execute_result"
    }
   ],
   "source": [
    "//load ImageJ\n",
    "%classpath config resolver imagej.public https://maven.imagej.net/content/groups/public\n",
    "%classpath add mvn net.imagej imagej 2.0.0-rc-67\n",
    "\n",
    "//create ImageJ object\n",
    "ij = new net.imagej.ImageJ()"
   ]
  },
  {
   "cell_type": "markdown",
   "metadata": {},
   "source": [
    "This `Op` performs the [Li's intensity correlation coefficent (ICQ) algorithm](http://imagej.net/_images/9/9e/LietAlColoc.pdf) for colocalization measurements. The Li ICQ value is calculated by dividing the amount of \"positive pixels\" by the total number of pixels; it's then shifted in the -0.5,0.5 range. Let's take a look at how this `Op` is called:"
   ]
  },
  {
   "cell_type": "code",
   "execution_count": 2,
   "metadata": {},
   "outputs": [
    {
     "data": {
      "text/plain": [
       "Available operations:\n",
       "\t(Double out) =\n",
       "\tnet.imagej.ops.coloc.icq.LiICQ(\n",
       "\t\tIterable in1,\n",
       "\t\tIterable in2,\n",
       "\t\tDoubleType mean1?,\n",
       "\t\tDoubleType mean2?)"
      ]
     },
     "execution_count": 2,
     "metadata": {},
     "output_type": "execute_result"
    }
   ],
   "source": [
    "ij.op().help('coloc.icq')"
   ]
  },
  {
   "cell_type": "markdown",
   "metadata": {},
   "source": [
    "Let's explain the parameters:\n",
    "\n",
    "* `Iterable<T>`: channel 1 image\n",
    "* `Iterable<U>`: channel 2 image\n",
    "* `DoubleType mean1`: if no mean is provided for the channel 1 image, it is calculated (optional parameter)\n",
    "* `DoubleType mean2`: if no mean is provided for the channel 2 image, it is calculated (optional parameter)\n",
    "\n",
    "Let's grab an image:"
   ]
  },
  {
   "cell_type": "code",
   "execution_count": 4,
   "metadata": {},
   "outputs": [
    {
     "data": {
      "text/plain": [
       "C2-FluorescentCells.tif"
      ]
     },
     "execution_count": 4,
     "metadata": {},
     "output_type": "execute_result"
    }
   ],
   "source": [
    "image1 = ij.scifio().datasetIO().open(\"/Users/ellenarena/Desktop/Desktop/C1-FluorescentCells.tif\")\n",
    "image2 = ij.scifio().datasetIO().open(\"/Users/ellenarena/Desktop/Desktop/C2-FluorescentCells.tif\")"
   ]
  },
  {
   "cell_type": "code",
   "execution_count": 13,
   "metadata": {},
   "outputs": [
    {
     "data": {
      "text/plain": [
       "net.imglib2.view.IntervalView@2fe7e98f"
      ]
     },
     "execution_count": 13,
     "metadata": {},
     "output_type": "execute_result"
    }
   ],
   "source": [
    "histo = ij.op().image().histogram(image1)\n",
    "histo2d = ij.op().transform().addDimensionView(histo, 0, 20)"
   ]
  },
  {
   "cell_type": "code",
   "execution_count": 14,
   "metadata": {},
   "outputs": [
    {
     "data": {
      "image/png": "[encoded data removed]"
     },
     "execution_count": 14,
     "metadata": {},
     "output_type": "execute_result"
    }
   ],
   "source": [
    "ij.notebook().display(histo2d)"
   ]
  },
  {
   "cell_type": "code",
   "execution_count": 15,
   "metadata": {},
   "outputs": [
    {
     "data": {
      "text/plain": [
       "Available operations:\n",
       "\t(IntervalView out) =\n",
       "\tnet.imagej.ops.transform.addDimensionView.AddDimensionViewMinMax(\n",
       "\t\tRandomAccessibleInterval in,\n",
       "\t\tlong minOfNewDim,\n",
       "\t\tlong maxOfNewDim)\n",
       "\t(MixedTransformView out) =\n",
       "\tnet.imagej.ops.transform.addDimensionView.DefaultAddDimensionView(\n",
       "\t\tRandomAccessible in)"
      ]
     },
     "execution_count": 15,
     "metadata": {},
     "output_type": "execute_result"
    }
   ],
   "source": [
    "ij.op().help(\"addDimensionView\")\n"
   ]
  },
  {
   "cell_type": "code",
   "execution_count": 18,
   "metadata": {},
   "outputs": [
    {
     "name": "stdout",
     "output_type": "stream",
     "text": [
      "67944\n",
      "6899\n",
      "2005\n",
      "1413\n",
      "1213\n",
      "997\n",
      "908\n",
      "816\n",
      "789\n",
      "823\n",
      "785\n",
      "809\n",
      "832\n",
      "867\n",
      "839\n",
      "886\n",
      "969\n",
      "1000\n",
      "957\n",
      "1186\n",
      "1086\n",
      "1113\n",
      "1260\n",
      "1212\n",
      "1312\n",
      "1383\n",
      "1399\n",
      "1513\n",
      "1559\n",
      "1657\n",
      "1630\n",
      "1678\n",
      "1763\n",
      "1781\n",
      "1889\n",
      "1969\n",
      "1993\n",
      "2101\n",
      "2092\n",
      "2097\n",
      "2086\n",
      "2198\n",
      "2258\n",
      "2244\n",
      "2334\n",
      "2262\n",
      "2378\n",
      "2336\n",
      "2466\n",
      "2410\n",
      "2457\n",
      "2432\n",
      "2390\n",
      "2478\n",
      "2371\n",
      "2406\n",
      "2393\n",
      "2378\n",
      "2318\n",
      "2387\n",
      "2371\n",
      "2349\n",
      "2298\n",
      "2303\n",
      "2208\n",
      "2155\n",
      "2123\n",
      "2111\n",
      "2059\n",
      "1998\n",
      "1954\n",
      "1957\n",
      "1881\n",
      "1811\n",
      "1893\n",
      "1780\n",
      "1585\n",
      "1644\n",
      "1525\n",
      "1514\n",
      "1494\n",
      "1382\n",
      "1347\n",
      "1318\n",
      "1241\n",
      "1248\n",
      "1209\n",
      "1212\n",
      "1118\n",
      "1033\n",
      "989\n",
      "961\n",
      "934\n",
      "928\n",
      "896\n",
      "842\n",
      "877\n",
      "847\n",
      "792\n",
      "775\n",
      "696\n",
      "715\n",
      "722\n",
      "711\n",
      "633\n",
      "646\n",
      "626\n",
      "629\n",
      "599\n",
      "565\n",
      "536\n",
      "497\n",
      "489\n",
      "504\n",
      "472\n",
      "479\n",
      "459\n",
      "410\n",
      "433\n",
      "379\n",
      "405\n",
      "397\n",
      "351\n",
      "439\n",
      "342\n",
      "386\n",
      "464\n",
      "320\n",
      "324\n",
      "332\n",
      "342\n",
      "264\n",
      "295\n",
      "275\n",
      "285\n",
      "270\n",
      "267\n",
      "242\n",
      "225\n",
      "223\n",
      "244\n",
      "232\n",
      "271\n",
      "219\n",
      "187\n",
      "197\n",
      "207\n",
      "192\n",
      "212\n",
      "220\n",
      "185\n",
      "167\n",
      "185\n",
      "178\n",
      "176\n",
      "157\n",
      "190\n",
      "187\n",
      "166\n",
      "163\n",
      "160\n",
      "180\n",
      "149\n",
      "172\n",
      "207\n",
      "204\n",
      "124\n",
      "137\n",
      "139\n",
      "130\n",
      "131\n",
      "114\n",
      "145\n",
      "172\n",
      "167\n",
      "399\n",
      "73\n",
      "109\n",
      "84\n",
      "94\n",
      "78\n",
      "91\n",
      "74\n",
      "83\n",
      "76\n",
      "95\n",
      "75\n",
      "81\n",
      "56\n",
      "68\n",
      "63\n",
      "60\n",
      "64\n",
      "63\n",
      "54\n",
      "60\n",
      "72\n",
      "55\n",
      "60\n",
      "56\n",
      "62\n",
      "58\n",
      "55\n",
      "49\n",
      "56\n",
      "46\n",
      "52\n",
      "40\n",
      "36\n",
      "51\n",
      "40\n",
      "49\n",
      "36\n",
      "45\n",
      "42\n",
      "51\n",
      "34\n",
      "41\n",
      "44\n",
      "33\n",
      "46\n",
      "44\n",
      "41\n",
      "38\n",
      "35\n",
      "41\n",
      "31\n",
      "35\n",
      "36\n",
      "26\n",
      "40\n",
      "41\n",
      "32\n",
      "39\n",
      "33\n",
      "43\n",
      "43\n",
      "35\n",
      "38\n",
      "35\n",
      "34\n",
      "35\n",
      "31\n",
      "29\n",
      "29\n",
      "39\n",
      "49\n",
      "38\n",
      "43\n",
      "26\n",
      "32\n",
      "42\n",
      "36\n",
      "46\n",
      "44\n",
      "494\n"
     ]
    },
    {
     "data": {
      "text/plain": [
       "null"
      ]
     },
     "execution_count": 18,
     "metadata": {},
     "output_type": "execute_result"
    }
   ],
   "source": [
    "for (t in histo) {println(t)}"
   ]
  },
  {
   "cell_type": "code",
   "execution_count": 26,
   "metadata": {},
   "outputs": [
    {
     "data": {
      "application/vnd.jupyter.widget-view+json": {
       "model_id": "",
       "version_major": 2,
       "version_minor": 0
      },
      "method": "display_data"
     },
     "metadata": {},
     "output_type": "display_data"
    },
    {
     "data": {
      "text/plain": [
       "org.knowm.xchart.CategoryChart@28b8d1b2"
      ]
     },
     "execution_count": 26,
     "metadata": {},
     "output_type": "execute_result"
    }
   ],
   "source": [
    "%classpath add mvn org.knowm.xchart xchart 3.5.2\n",
    "import org.knowm.xchart.CategoryChart\n",
    "import org.knowm.xchart.CategoryChartBuilder\n",
    "import java.awt.Color\n",
    "\n",
    "// Create a chart.\n",
    "chart = new CategoryChartBuilder().width(800).height(400).\n",
    "    title(\"Histogram\").xAxisTitle(\"Bin\").yAxisTitle(\"Count\").build();\n",
    "chart.getStyler().setPlotGridVerticalLinesVisible(false).setOverlapped(true)\n",
    "\n",
    "// Extract the counts and add them to the chart.\n",
    "counts = []\n",
    "for (value in histo)\n",
    "    counts.add(value.getRealDouble())\n",
    "chart.addSeries(\"histogram\", (0..counts.size()-1), counts).setFillColor(new java.awt.Color(0x7989FF))\n",
    "\n",
    "chart"
   ]
  },
  {
   "cell_type": "code",
   "execution_count": 30,
   "metadata": {},
   "outputs": [
    {
     "data": {
      "application/vnd.jupyter.widget-view+json": {
       "model_id": "b3592398-bd8b-4eb0-9529-56d12baedf9e",
       "version_major": 2,
       "version_minor": 0
      },
      "method": "display_data"
     },
     "metadata": {},
     "output_type": "display_data"
    }
   ],
   "source": [
    "ij.notebook().methods(ij.notebook())"
   ]
  },
  {
   "cell_type": "code",
   "execution_count": null,
   "metadata": {},
   "outputs": [],
   "source": []
  }
 ],
 "metadata": {
  "kernelspec": {
   "display_name": "Groovy",
   "language": "groovy",
   "name": "groovy"
  },
  "language_info": {
   "codemirror_mode": "groovy",
   "file_extension": ".groovy",
   "mimetype": "",
   "name": "Groovy",
   "nbconverter_exporter": "",
   "version": "2.4.3"
  },
  "toc": {
   "base_numbering": 1,
   "nav_menu": {},
   "number_sections": false,
   "sideBar": false,
   "skip_h1_title": false,
   "title_cell": "Table of Contents",
   "title_sidebar": "Contents",
   "toc_cell": false,
   "toc_position": {},
   "toc_section_display": false,
   "toc_window_display": false
  }
 },
 "nbformat": 4,
 "nbformat_minor": 2
}
