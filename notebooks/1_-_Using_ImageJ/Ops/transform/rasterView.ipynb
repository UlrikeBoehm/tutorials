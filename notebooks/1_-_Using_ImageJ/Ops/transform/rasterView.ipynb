{
 "cells": [
  {
   "cell_type": "markdown",
   "metadata": {},
   "source": [
    "## RasterView Op"
   ]
  },
  {
   "cell_type": "code",
   "execution_count": 1,
   "metadata": {},
   "outputs": [
    {
     "name": "stdout",
     "output_type": "stream",
     "text": [
      "Added new repo: imagej.public\n"
     ]
    },
    {
     "data": {
      "application/vnd.jupyter.widget-view+json": {
       "model_id": "",
       "version_major": 2,
       "version_minor": 0
      },
      "method": "display_data"
     },
     "metadata": {},
     "output_type": "display_data"
    },
    {
     "data": {
      "application/vnd.jupyter.widget-view+json": {
       "model_id": "d3dbe563-42e1-4188-a6de-6c05b8488db9",
       "version_major": 2,
       "version_minor": 0
      },
      "method": "display_data"
     },
     "metadata": {},
     "output_type": "display_data"
    },
    {
     "data": {
      "text/plain": [
       "net.imagej.ImageJ@4248b215"
      ]
     },
     "execution_count": 1,
     "metadata": {},
     "output_type": "execute_result"
    }
   ],
   "source": [
    "//load ImageJ\n",
    "%classpath config resolver imagej.public https://maven.imagej.net/content/groups/public\n",
    "%classpath add mvn net.imagej imagej 2.0.0-rc-67\n",
    "\n",
    "//create ImageJ object\n",
    "ij = new net.imagej.ImageJ()"
   ]
  },
  {
   "cell_type": "markdown",
   "metadata": {},
   "source": [
    "This `Op` wraps the `Views.raster()` method of ImgLib2, converting a [`RealRandomAccessible`](http://javadoc.scijava.org/ImgLib2/net/imglib2/RealRandomAccessible.html) into a [`RandomAccessible`](http://javadoc.scijava.org/ImgLib2/net/imglib2/RandomAccessible.html). In other words, this `Op` converts an image in real space (i.e. data values at non-integer locations) into an image in integer space."
   ]
  },
  {
   "cell_type": "code",
   "execution_count": 2,
   "metadata": {},
   "outputs": [
    {
     "data": {
      "text/plain": [
       "Available operations:\n",
       "\t(RandomAccessibleOnRealRandomAccessible out) =\n",
       "\tnet.imagej.ops.transform.rasterView.DefaultRasterView(\n",
       "\t\tRealRandomAccessible in)"
      ]
     },
     "execution_count": 2,
     "metadata": {},
     "output_type": "execute_result"
    }
   ],
   "source": [
    "ij.op().help('rasterView')"
   ]
  },
  {
   "cell_type": "markdown",
   "metadata": {},
   "source": [
    "Lots of times the `RealRandomAccessible` will come from [`interpolateView`](interpolateView.ipynb). Note that we cannot (yet) display the `RealRandomAccessible` in the notebooks, so for now we will display the input:"
   ]
  },
  {
   "cell_type": "code",
   "execution_count": 5,
   "metadata": {},
   "outputs": [
    {
     "name": "stdout",
     "output_type": "stream",
     "text": [
      "[INFO] Verifying GIF format\n",
      "[INFO] Reading dimensions\n",
      "[INFO] Reading data blocks\n"
     ]
    },
    {
     "data": {
      "image/png": "[encoded data removed]"
     },
     "execution_count": 5,
     "metadata": {},
     "output_type": "execute_result"
    }
   ],
   "source": [
    "import net.imglib2.interpolation.randomaccess.NearestNeighborInterpolatorFactory\n",
    "import net.imglib2.interpolation.randomaccess.NLinearInterpolatorFactory\n",
    "import net.imglib2.interpolation.randomaccess.LanczosInterpolatorFactory\n",
    "\n",
    "input = ij.scifio().datasetIO().open(\"http://imagej.net/images/ij-icon.gif\")\n",
    "\n",
    "interpolated= ij.op().run(\"interpolateView\", input, new NLinearInterpolatorFactory())\n",
    "\n",
    "ij.notebook().display(input)"
   ]
  },
  {
   "cell_type": "markdown",
   "metadata": {},
   "source": [
    "Note that we can however interrogate decimal coordinates:"
   ]
  },
  {
   "cell_type": "code",
   "execution_count": 6,
   "metadata": {},
   "outputs": [
    {
     "name": "stdout",
     "output_type": "stream",
     "text": [
      "168.0\n"
     ]
    },
    {
     "data": {
      "text/plain": [
       "null"
      ]
     },
     "execution_count": 6,
     "metadata": {},
     "output_type": "execute_result"
    }
   ],
   "source": [
    "access = interpolated.realRandomAccess()\n",
    "\n",
    "//coordinates to interrogate\n",
    "x = 16.6 as double\n",
    "y = 10.2 as double\n",
    "\n",
    "//set the randomAccess to x in the first dimension and y in the second\n",
    "access.setPosition(x, 0)\n",
    "access.setPosition(y, 1)\n",
    "\n",
    "println(access.get().getRealDouble())"
   ]
  },
  {
   "cell_type": "markdown",
   "metadata": {},
   "source": [
    "Let's return to a `RandomAccessibleInterval` using `rasterView` and `intervalView`. Note that we have to use `intervalView` as well because `ij.notebook().display()` needs to have an `Interval` to display (i.e. it cannot display an unbounded image), and `rasterView` only returns an image extending `RandomAccessible` (i.e. an unbounded image):"
   ]
  },
  {
   "cell_type": "code",
   "execution_count": 11,
   "metadata": {},
   "outputs": [
    {
     "ename": "java.lang.ArrayIndexOutOfBoundsException",
     "evalue": " 1024",
     "output_type": "error",
     "traceback": [
      "\u001b[1;31mjava.lang.ArrayIndexOutOfBoundsException: 1024\u001b[0;0m",
      "\u001b[1;31m\tat net.imglib2.img.basictypeaccess.array.AbstractByteArray.getValue(AbstractByteArray.java:61)\u001b[0;0m",
      "\u001b[1;31m\tat net.imglib2.type.numeric.integer.GenericByteType.getByte(GenericByteType.java:127)\u001b[0;0m",
      "\u001b[1;31m\tat net.imglib2.type.numeric.integer.GenericByteType.set(GenericByteType.java:203)\u001b[0;0m",
      "\u001b[1;31m\tat net.imglib2.type.numeric.integer.GenericByteType.set(GenericByteType.java:51)\u001b[0;0m",
      "\u001b[1;31m\tat net.imglib2.interpolation.randomaccess.NLinearInterpolator.accumulate(NLinearInterpolator.java:264)\u001b[0;0m",
      "\u001b[1;31m\tat net.imglib2.interpolation.randomaccess.NLinearInterpolator.graycodeFwdRecursive(NLinearInterpolator.java:236)\u001b[0;0m",
      "\u001b[1;31m\tat net.imglib2.interpolation.randomaccess.NLinearInterpolator.graycodeFwdRecursive(NLinearInterpolator.java:233)\u001b[0;0m",
      "\u001b[1;31m\tat net.imglib2.interpolation.randomaccess.NLinearInterpolator.get(NLinearInterpolator.java:205)\u001b[0;0m",
      "\u001b[1;31m\tat net.imglib2.interpolation.randomaccess.NLinearInterpolator.get(NLinearInterpolator.java:53)\u001b[0;0m",
      "\u001b[1;31m\tat net.imglib2.view.RandomAccessibleOnRealRandomAccessible$RandomAccessOnRealRandomAccessible.get(RandomAccessibleOnRealRandomAccessible.java:194)\u001b[0;0m",
      "\u001b[1;31m\tat net.imglib2.display.projector.composite.CompositeXYProjector.map(CompositeXYProjector.java:197)\u001b[0;0m",
      "\u001b[1;31m\tat net.imagej.notebook.DefaultNotebookService.display(DefaultNotebookService.java:121)\u001b[0;0m",
      "\u001b[1;31m\tat net.imagej.notebook.NotebookService.display(NotebookService.java:113)\u001b[0;0m",
      "\u001b[1;31m\tat net.imagej.notebook.NotebookService$display$0.call(Unknown Source)\u001b[0;0m",
      "\u001b[1;31m\tat this cell line 5\u001b[0;0m",
      "\u001b[0;31m\tat com.twosigma.beakerx.groovy.evaluator.GroovyCodeRunner.runScript(GroovyCodeRunner.java:94)\u001b[0;0m",
      "\u001b[0;31m\tat com.twosigma.beakerx.groovy.evaluator.GroovyCodeRunner.call(GroovyCodeRunner.java:59)\u001b[0;0m",
      "\u001b[0;31m\tat com.twosigma.beakerx.groovy.evaluator.GroovyCodeRunner.call(GroovyCodeRunner.java:32)\u001b[0;0m"
     ]
    }
   ],
   "source": [
    "rastered = ij.op().run(\"rasterView\", interpolated)\n",
    "\n",
    "intervaled = ij.op().run(\"intervalView\", rastered, input)\n",
    "\n",
    "ij.notebook().display(intervaled)"
   ]
  },
  {
   "cell_type": "code",
   "execution_count": null,
   "metadata": {},
   "outputs": [],
   "source": []
  }
 ],
 "metadata": {
  "kernelspec": {
   "display_name": "Groovy",
   "language": "groovy",
   "name": "groovy"
  },
  "language_info": {
   "codemirror_mode": "groovy",
   "file_extension": ".groovy",
   "mimetype": "",
   "name": "Groovy",
   "nbconverter_exporter": "",
   "version": "2.4.3"
  },
  "toc": {
   "base_numbering": 1,
   "nav_menu": {},
   "number_sections": false,
   "sideBar": false,
   "skip_h1_title": false,
   "title_cell": "Table of Contents",
   "title_sidebar": "Contents",
   "toc_cell": false,
   "toc_position": {},
   "toc_section_display": false,
   "toc_window_display": false
  }
 },
 "nbformat": 4,
 "nbformat_minor": 2
}
